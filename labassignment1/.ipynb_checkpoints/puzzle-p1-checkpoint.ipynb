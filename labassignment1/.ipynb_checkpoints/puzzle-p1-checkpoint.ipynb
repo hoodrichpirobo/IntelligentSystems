{
 "cells": [
  {
   "cell_type": "markdown",
   "metadata": {},
   "source": [
    "**Lab assignment 1**\n",
    "\n",
    "Notebook introducing the search algorithms applied on the n-puzzle.\n",
    "\n",
    "It is used to familiarize oneself with the use of the file search.py, the execution of search strategies, and the visualization of solutions."
   ]
  },
  {
   "cell_type": "code",
   "execution_count": null,
   "metadata": {},
   "outputs": [],
   "source": [
    "pip install matplotlib tabulate numpy "
   ]
  },
  {
   "cell_type": "code",
   "execution_count": null,
   "metadata": {},
   "outputs": [],
   "source": [
    "import search\n",
    "from search import *"
   ]
  },
  {
   "cell_type": "markdown",
   "metadata": {
    "id": "pCE-8NbOrVeU"
   },
   "source": [
    "**Methods to simplify the execution of the available algorithms**"
   ]
  },
  {
   "cell_type": "code",
   "execution_count": null,
   "metadata": {
    "id": "1T40rHA-HJ8y"
   },
   "outputs": [],
   "source": [
    "# Auxiliary methods to execute the algorithms\n",
    "\n",
    "def run_algorithm(algorithm_name, initial_state, end_state, size, depth=50, heuristic_func=None):\n",
    "    \"\"\"\n",
    "    Runs the algorithm indicated by the name and returns its results.\n",
    "    Returns:\n",
    "        dict: Dictionary with the results of the algorithm, or None if an error occurs\n",
    "    \"\"\"\n",
    "    solution_data = None\n",
    "\n",
    "    if algorithm_name == 'BFS':\n",
    "        solution_data = graphSearch(initial_state, end_state, lambda x: 1, lambda s, es: 0, size)\n",
    "        print(\"BFS executed\")\n",
    "\n",
    "    elif algorithm_name == 'DFS (Graph Search)':\n",
    "        solution_data = graphSearch(initial_state, end_state, lambda x: -1, lambda s, es: 0, size, maximum_depth=depth)\n",
    "        print(\"DFS (Graph Search) executed\")\n",
    "\n",
    "    elif algorithm_name == 'DFS-B':\n",
    "        results_dict, _ = DFS_B(initial_state, end_state, size=size, maximum_depth=depth)\n",
    "        solution_data = results_dict\n",
    "        print(\"DFS-B executed\")\n",
    "\n",
    "    elif algorithm_name == 'Voraz (Manhattan)':  # Greedy (Manhattan)\n",
    "        manhattan_h_search = lambda s, es_local=end_state: getManhattanDistance(s, es_local)\n",
    "        solution_data = graphSearch(initial_state, end_state, lambda x: 0, manhattan_h_search, size)\n",
    "        print(\"Voraz (Manhattan) executed\")\n",
    "\n",
    "    elif algorithm_name == 'ID':\n",
    "        solution_data = ID_B(initial_state, end_state, size=size)\n",
    "        print(\"ID executed\")\n",
    "\n",
    "    elif algorithm_name == 'A* (Manhattan)':\n",
    "        manhattan_h_search = lambda s, es_local=end_state: getManhattanDistance(s, es_local)\n",
    "        solution_data = graphSearch(initial_state, end_state, lambda x: 1, manhattan_h_search, size)\n",
    "        print(\"A* (Manhattan) executed\")\n",
    "\n",
    "    elif algorithm_name == 'A (MD + LC)':\n",
    "        md_lc_h_search = lambda s, es_local=end_state: get_md_plus_linear_conflict(s, es_local)\n",
    "        solution_data = graphSearch(initial_state,end_state,  lambda x: 1, md_lc_h_search, size)\n",
    "        print(\"A (Manhattan + Linear_conflict) executed\")\n",
    "\n",
    "    elif algorithm_name == 'IDA* (Manhattan)':\n",
    "        manhattan_h_search = lambda s, es_local=end_state: getManhattanDistance(s, es_local)\n",
    "        solution_data = IDA_B(initial_state, end_state, size, manhattan_h_search)\n",
    "        print(\"IDA* (Manhattan) executed\")\n",
    "\n",
    "    else:\n",
    "        print(f\"Algorithm {algorithm_name} not found!\")\n",
    "        return None\n",
    "\n",
    "    if solution_data:\n",
    "        if not solution_data['path'] or len(solution_data['path']) == 0:\n",
    "            print(f\"No solution found for {algorithm_name}\")\n",
    "        return {algorithm_name: solution_data}\n",
    "    else:\n",
    "        print(f\"No solution data returned for {algorithm_name}\")\n",
    "        return {algorithm_name: {}}  # Return empty dict for the algorithm\n",
    "\n",
    "\n",
    "\n",
    "def run_all_algorithms(initial_state, end_state, size, depth = 50):\n",
    "    \"\"\"\n",
    "    Runs all the defined algorithms and returns their results.\n",
    "    Returns:\n",
    "        dict: Dictionary with the results of all of the algorithms executed\n",
    "    \"\"\"\n",
    "    algorithms = [\n",
    "        'BFS',\n",
    "        'DFS-B',\n",
    "        'Voraz (Manhattan)',  # Greedy (Manhattan)\n",
    "        'ID',\n",
    "        'A* (Manhattan)',\n",
    "        'A (MD + LC)',\n",
    "        'IDA* (Manhattan)',\n",
    "    ]\n",
    "\n",
    "    results = {}\n",
    "    seen_algos = set()  \n",
    "    for algo in algorithms:\n",
    "        if algo not in seen_algos:  \n",
    "            seen_algos.add(algo)\n",
    "            algo_result = run_algorithm(algo, initial_state, end_state, size, depth)\n",
    "            if algo_result and algo in algo_result:\n",
    "                results[algo] = algo_result[algo]\n",
    "    \n",
    "    return results\n"
   ]
  },
  {
   "cell_type": "markdown",
   "metadata": {
    "id": "oZHdum_Trsdl"
   },
   "source": [
    "**Example with size 3**\n",
    "\n",
    "The initial and goal states are defined, all available algorithms are executed, and the results are displayed"
   ]
  },
  {
   "cell_type": "code",
   "execution_count": null,
   "metadata": {
    "colab": {
     "base_uri": "https://localhost:8080/",
     "height": 1000
    },
    "id": "ANFoBGdqHwtT",
    "outputId": "980506e8-e392-4e33-af40-a46da650f648"
   },
   "outputs": [],
   "source": [
    "# Size 3\n",
    "\n",
    "size = 3  # Example for a 3x3 puzzle\n",
    "\n",
    "initial_state_matrix = [\n",
    "    [7, 8, 1],\n",
    "    [4, 0, 6],\n",
    "    [2, 3, 5]\n",
    "]\n",
    "\n",
    "end_state_matrix = [\n",
    "    [1, 2, 3],\n",
    "    [8, 0, 4],\n",
    "    [7, 6, 5]\n",
    "]\n",
    "\n",
    "# Convert the matrix into a one-dimensional list\n",
    "initial_state = [num for row in initial_state_matrix for num in row]\n",
    "# Convert the matrix into a one-dimensional list\n",
    "end_state = [num for row in end_state_matrix for num in row]\n",
    "\n",
    "# Run all of the algorithms and show the results as a table\n",
    "results = {}\n",
    "if isSolvable(initial_state, end_state):\n",
    "    # Calling the function that runs all the algorithms\n",
    "    results = run_all_algorithms(initial_state, end_state, size, 40)\n",
    "    show_results(results)\n",
    "    plot_algorithm_comparison(results)\n",
    "else:\n",
    "    print(\"The puzzle is not solvable.\")\n",
    "\n",
    "\n"
   ]
  },
  {
   "cell_type": "markdown",
   "metadata": {
    "id": "K3cmvWJXrwOQ"
   },
   "source": [
    "**Example: Displaying a solution**\n",
    "\n",
    "We display the solution obtained for the case of A* Manhattan"
   ]
  },
  {
   "cell_type": "code",
   "execution_count": null,
   "metadata": {
    "id": "bqTJAj1hI-ix"
   },
   "outputs": [],
   "source": [
    "# Displaying the solution for one of the executed algorithms \n",
    "show_path_for_algorithm(results, 'A* (Manhattan)', size)"
   ]
  },
  {
   "cell_type": "markdown",
   "metadata": {},
   "source": [
    "**Example with size 4**"
   ]
  },
  {
   "cell_type": "code",
   "execution_count": null,
   "metadata": {},
   "outputs": [],
   "source": [
    " # Size 4\n",
    "\n",
    "size = 4\n",
    "\n",
    "initial_state_matrix = [\n",
    "    [13, 2, 10, 3],\n",
    "    [1, 12, 8, 4],\n",
    "    [5, 0, 9, 6],\n",
    "    [15, 14, 11, 7]\n",
    "]\n",
    "\n",
    "end_state_matrix = [\n",
    "    [1, 2, 3, 4],\n",
    "    [5, 6, 7, 8],\n",
    "    [9, 10, 11, 12],\n",
    "    [13, 14, 15, 0]\n",
    "]\n",
    "\n",
    "# Convert the matrix into a one-dimensional list\n",
    "initial_state = [num for row in initial_state_matrix for num in row]\n",
    "# Convert the matrix into a one-dimensional list\n",
    "end_state = [num for row in end_state_matrix for num in row]\n",
    "\n",
    "# Run two specific algorithms\n",
    "results = {}\n",
    "if isSolvable(initial_state, end_state):\n",
    "    # Calling the function to run the algorithms\n",
    "    algo_result = run_algorithm('A (MD + LC)', initial_state, end_state, size)\n",
    "    results.update(algo_result)\n",
    "    \n",
    "    algo_result = run_algorithm('Voraz (Manhattan)', initial_state, end_state, size)  # Greedy (Manhattan)\n",
    "    results.update(algo_result)\n",
    "        \n",
    "    show_results(results)\n",
    "else:\n",
    "    print(\"The puzzle is not solvable.\")\n"
   ]
  },
  {
   "cell_type": "markdown",
   "metadata": {},
   "source": [
    "**Example with size 5**"
   ]
  },
  {
   "cell_type": "code",
   "execution_count": null,
   "metadata": {},
   "outputs": [],
   "source": [
    "# Size 5\n",
    "\n",
    "size = 5\n",
    "initial_state_matrix = [\n",
    "  [1, 2, 3, 4, 5],\n",
    "  [6, 7, 8, 9, 10],\n",
    "  [0, 12, 13, 14, 15],\n",
    "  [16, 17, 18, 19, 20],\n",
    "  [21, 22, 24, 23, 11]\n",
    "]\n",
    "\n",
    "end_state_matrix = [\n",
    "  [1, 2, 3, 4, 5],\n",
    "  [6, 7, 8, 9, 10],\n",
    "  [11, 12, 13, 14, 15],\n",
    "  [16, 17, 18, 19, 20],\n",
    "  [21, 22, 23, 24, 0]\n",
    "]\n",
    "\n",
    "# Convert the matrix into a one-dimensional list\n",
    "initial_state = [num for row in initial_state_matrix for num in row]\n",
    "# Convert the matrix into a one-dimensional list\n",
    "end_state = [num for row in end_state_matrix for num in row]\n",
    "\n",
    "# Run two specific algorithms\n",
    "results = {}\n",
    "if isSolvable(initial_state, end_state):\n",
    "    # Calling the function to run the algorithms\n",
    "    algo_result = run_algorithm('A (MD + LC)', initial_state, end_state, size)\n",
    "    results.update(algo_result)\n",
    "    \n",
    "    algo_result = run_algorithm('Voraz (Manhattan)', initial_state, end_state, size)  # Greedy (Manhattan)\n",
    "    results.update(algo_result)\n",
    "        \n",
    "    show_results(results)\n",
    "\n",
    "else:\n",
    "    print(\"The puzzle is not solvable.\")\n",
    "\n"
   ]
  },
  {
   "cell_type": "markdown",
   "metadata": {},
   "source": [
    "**Test with size n, auto-generating the initial state and the goal state**\n",
    "\n",
    "Here we consider how to generalize to n the size of the puzzle"
   ]
  },
  {
   "cell_type": "code",
   "execution_count": null,
   "metadata": {},
   "outputs": [],
   "source": [
    "# Test with size n, auto-generating the initial state and the goal state \n",
    "size = 3\n",
    "end_state = generate_ordered_state(size)\n",
    "#end_state = generate_spiral_state(size)\n",
    "initial_state = generate_random_state(size, end_state)\n",
    "\n",
    "\n",
    "print(\"Initial state:\\n\")\n",
    "visualize_state(initial_state)\n",
    "\n",
    "print(\"\\nEnd state:\\n\")\n",
    "visualize_state(end_state)\n",
    "print()\n",
    "\n",
    "# Running some specific algorithms\n",
    "results = {}\n",
    "\n",
    "alg_results = run_algorithm('Voraz (Manhattan)', initial_state, end_state, size)  # Greedy (Manhattan)\n",
    "results.update(alg_results)\n",
    "alg_results = run_algorithm('A* (Manhattan)', initial_state, end_state, size)\n",
    "results.update(alg_results)\n",
    "alg_results = run_algorithm('A (MD + LC)', initial_state, end_state, size)\n",
    "results.update(alg_results)\n",
    "\n",
    "show_results(results)\n",
    "plot_algorithm_comparison(results)\n",
    "\n",
    "#show_path_for_algorithm(results, 'A (MD + LC)', size)"
   ]
  },
  {
   "cell_type": "code",
   "execution_count": null,
   "metadata": {},
   "outputs": [],
   "source": []
  }
 ],
 "metadata": {
  "colab": {
   "provenance": []
  },
  "kernelspec": {
   "display_name": "Python 3 (ipykernel)",
   "language": "python",
   "name": "python3"
  },
  "language_info": {
   "codemirror_mode": {
    "name": "ipython",
    "version": 3
   },
   "file_extension": ".py",
   "mimetype": "text/x-python",
   "name": "python",
   "nbconvert_exporter": "python",
   "pygments_lexer": "ipython3",
   "version": "3.13.3"
  }
 },
 "nbformat": 4,
 "nbformat_minor": 4
}
